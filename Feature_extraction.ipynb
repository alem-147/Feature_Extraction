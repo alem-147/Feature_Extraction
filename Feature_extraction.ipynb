{
  "nbformat": 4,
  "nbformat_minor": 0,
  "metadata": {
    "colab": {
      "provenance": [],
      "collapsed_sections": [
        "IWBPfRYwTWnS",
        "kZ07nUPThkjG",
        "YDtNBF8Ajb-A",
        "u_uGTN0apz4t"
      ],
      "include_colab_link": true
    },
    "kernelspec": {
      "name": "python3",
      "display_name": "Python 3"
    }
  },
  "cells": [
    {
      "cell_type": "markdown",
      "metadata": {
        "id": "view-in-github",
        "colab_type": "text"
      },
      "source": [
        "<a href=\"https://colab.research.google.com/github/alem-147/Feature_Extraction/blob/main/Feature_extraction.ipynb\" target=\"_parent\"><img src=\"https://colab.research.google.com/assets/colab-badge.svg\" alt=\"Open In Colab\"/></a>"
      ]
    },
    {
      "cell_type": "markdown",
      "metadata": {
        "id": "IWBPfRYwTWnS"
      },
      "source": [
        "## **Import packages**\n"
      ]
    },
    {
      "cell_type": "markdown",
      "metadata": {
        "id": "fUULfRi3ekT1"
      },
      "source": [
        "## **Load and visualize MNIST data**\n"
      ]
    },
    {
      "cell_type": "code",
      "metadata": {
        "id": "qShZ8_EqTSmH"
      },
      "source": [
        "import numpy as np\n",
        "import matplotlib.pyplot as plt\n",
        "from keras.datasets import mnist\n",
        "from skimage import measure\n",
        "import pandas as pd\n",
        "\n",
        "import warnings\n",
        "warnings.filterwarnings(\"ignore\") # Added this at the end to show a clean output with no warnings but not necessary "
      ],
      "execution_count": 1,
      "outputs": []
    },
    {
      "cell_type": "markdown",
      "metadata": {
        "id": "mN1kDQwef75l"
      },
      "source": [
        "### Choose number to visualize (from 0 to 9):"
      ]
    },
    {
      "cell_type": "code",
      "metadata": {
        "id": "ItZnPzRGSEik"
      },
      "source": [
        "(x_train, y_train), (x_test, y_test) = mnist.load_data()"
      ],
      "execution_count": 76,
      "outputs": []
    },
    {
      "cell_type": "code",
      "metadata": {
        "id": "4pWfhV_6f0jj",
        "outputId": "3a6fa13e-b2e0-4651-d3b0-e62c19267079",
        "colab": {
          "base_uri": "https://localhost:8080/",
          "height": 0
        }
      },
      "source": [
        "number = 0\n",
        "x = x_train[y_train==number,:,:]\n",
        "print('The shape of x is:')\n",
        "print(x.shape)\n",
        "print('which means:')\n",
        "print('Number '+str(number)+' has '+str(x.shape[0])+' images of size '+str(x.shape[1])+'x'+str(x.shape[2]))"
      ],
      "execution_count": 77,
      "outputs": [
        {
          "output_type": "stream",
          "name": "stdout",
          "text": [
            "The shape of x is:\n",
            "(5923, 28, 28)\n",
            "which means:\n",
            "Number 0 has 5923 images of size 28x28\n"
          ]
        }
      ]
    },
    {
      "cell_type": "markdown",
      "metadata": {
        "id": "kZ07nUPThkjG"
      },
      "source": [
        "### Plot average image:"
      ]
    },
    {
      "cell_type": "code",
      "metadata": {
        "id": "TJSfHmhTf5ks",
        "outputId": "b466cdfe-35dc-4c80-b252-4b58ae35f073",
        "colab": {
          "base_uri": "https://localhost:8080/",
          "height": 0
        }
      },
      "source": [
        "m = np.mean(x, axis=0) \n",
        "\n",
        "# print(x[0])\n",
        "# print(m)\n",
        "\n",
        "plt.figure()\n",
        "plt.subplot(1,2,1)\n",
        "plt.imshow(m)\n",
        "plt.title('Average image')\n",
        "\n",
        "mt = 1*(m > 60) # Thresholding\n",
        "plt.subplot(1,2,2)\n",
        "plt.imshow(mt)\n",
        "plt.title('Thresholded image')"
      ],
      "execution_count": 78,
      "outputs": [
        {
          "output_type": "execute_result",
          "data": {
            "text/plain": [
              "Text(0.5, 1.0, 'Thresholded image')"
            ]
          },
          "metadata": {},
          "execution_count": 78
        },
        {
          "output_type": "display_data",
          "data": {
            "text/plain": [
              "<Figure size 432x288 with 2 Axes>"
            ],
            "image/png": "[encoded data removed]"
          },
          "metadata": {
            "needs_background": "light"
          }
        }
      ]
    },
    {
      "cell_type": "markdown",
      "metadata": {
        "id": "YDtNBF8Ajb-A"
      },
      "source": [
        "## From a thresholded image, we can use the regionprops function from skimage.measure"
      ]
    },
    {
      "cell_type": "code",
      "metadata": {
        "id": "9EerbOi7SJjr",
        "outputId": "f7c23462-10a2-4174-93fd-87409ef682b8",
        "colab": {
          "base_uri": "https://localhost:8080/",
          "height": 0
        }
      },
      "source": [
        "mt_props = measure.regionprops(mt)\n",
        "num_regions = len(mt_props)\n",
        "print(str(num_regions)+' region/s were found')\n",
        "print('')\n",
        "\n",
        "print('Area (in pixels):')\n",
        "area = mt_props[0].area # Remember, index 0 is the first region found\n",
        "print(area)\n",
        "print('')\n",
        "\n",
        "print('Perimeter (in pixels):')\n",
        "perimeter = mt_props[0].perimeter\n",
        "print(perimeter)\n",
        "print('')\n",
        "\n",
        "print('Centroid (pixel coordinates):')\n",
        "centroid = mt_props[0].centroid\n",
        "print(centroid)\n",
        "\n",
        "print('Eccentricity:')\n",
        "eccentricity = mt_props[0].eccentricity\n",
        "print(eccentricity)\n",
        "print('')\n",
        "\n",
        "print('Minor axis length:')\n",
        "minor_axis = mt_props[0].minor_axis_length\n",
        "print(minor_axis)\n",
        "print('')\n",
        "\n"
      ],
      "execution_count": 79,
      "outputs": [
        {
          "output_type": "stream",
          "name": "stdout",
          "text": [
            "1 region/s were found\n",
            "\n",
            "Area (in pixels):\n",
            "237\n",
            "\n",
            "Perimeter (in pixels):\n",
            "93.74011537017762\n",
            "\n",
            "Centroid (pixel coordinates):\n",
            "(13.978902953586498, 14.080168776371307)\n",
            "Eccentricity:\n",
            "0.6181813464414365\n",
            "\n",
            "Minor axis length:\n",
            "18.53176476195907\n",
            "\n"
          ]
        }
      ]
    },
    {
      "cell_type": "markdown",
      "metadata": {
        "id": "u_uGTN0apz4t"
      },
      "source": [
        "## Example: Scatter plot of Area vs Perimeter for all images of numbers \"number\" and \"number+1\"\n",
        "### Are \"Area\" and \"Perimeter\" good features to classify \"number\" and \"number+1\"?"
      ]
    },
    {
      "cell_type": "code",
      "source": [
        "x5 = x_train[y_train==number,:,:]\n",
        "x6 = x_train[y_train==number+1,:,:]\n",
        "buf5 = \"Number  %d\" % number\n",
        "buf6 = \"Number  %d\" % (number+1)\n",
        "# Threshold images\n",
        "t5 = 1*(x5 > 60)\n",
        "t6 = 1*(x6 > 60)\n",
        "\n",
        "m5 = np.mean(x5, axis=0) \n",
        "m6 = np.mean(x6, axis=0) \n",
        "\n",
        "plt.figure()\n",
        "plt.subplot(1,2,1)\n",
        "plt.imshow(m5)\n",
        "plt.subplot(1,2,2)\n",
        "plt.imshow(m6)\n",
        "\n",
        "plt.title('Average image')\n",
        "\n",
        "mt5 = 1*(m5 > 60)\n",
        "mt6 = 1*(m6 > 60)\n",
        "\n",
        "plt.figure()\n",
        "\n",
        "plt.subplot(1,2,1)\n",
        "plt.title('thresh image ' + buf5)\n",
        "plt.imshow(mt5)\n",
        "plt.subplot(1,2,2)\n",
        "plt.title('thresh image ' + buf6)\n",
        "plt.imshow(mt6)\n",
        "# mt = 1*(m > 60) # Thresholding\n",
        "# plt.subplot(1,2,2)\n",
        "# plt.imshow(mt)\n",
        "# plt.title('Thresholded image')"
      ],
      "metadata": {
        "colab": {
          "base_uri": "https://localhost:8080/",
          "height": 0
        },
        "id": "tTEHkgBMwzqf",
        "outputId": "df77f5de-27a7-4050-af72-ca9aa0aa3672"
      },
      "execution_count": 80,
      "outputs": [
        {
          "output_type": "execute_result",
          "data": {
            "text/plain": [
              "<matplotlib.image.AxesImage at 0x7fa245e9e490>"
            ]
          },
          "metadata": {},
          "execution_count": 80
        },
        {
          "output_type": "display_data",
          "data": {
            "text/plain": [
              "<Figure size 432x288 with 2 Axes>"
            ],
            "image/png": "[encoded data removed]"
          },
          "metadata": {
            "needs_background": "light"
          }
        },
        {
          "output_type": "display_data",
          "data": {
            "text/plain": [
              "<Figure size 432x288 with 2 Axes>"
            ],
            "image/png": "[encoded data removed]"
          },
          "metadata": {
            "needs_background": "light"
          }
        }
      ]
    },
    {
      "cell_type": "code",
      "metadata": {
        "id": "JLRFfzL3k7Tm",
        "outputId": "6acb0d7d-3d3d-4ef4-fb27-5b4b8e1b9140",
        "colab": {
          "base_uri": "https://localhost:8080/",
          "height": 0
        }
      },
      "source": [
        "x5 = x_train[y_train==number,:,:]\n",
        "x6 = x_train[y_train==number+1,:,:]\n",
        "buf5 = \"Number  %d\" % number\n",
        "buf6 = \"Number  %d\" % (number+1)\n",
        "# Threshold images\n",
        "t5 = 1*(x5 > 60)\n",
        "t6 = 1*(x6 > 60)\n",
        "\n",
        "# Region properties\n",
        "area5 = np.zeros(t5.shape[0])\n",
        "perimeter5 = np.zeros(t5.shape[0])\n",
        "for i in range(0,t5.shape[0]):\n",
        "  props = measure.regionprops(t5[i,:,:])\n",
        "  area5[i] = props[0].area\n",
        "  perimeter5[i] = props[0].perimeter\n",
        "  \n",
        "area6 = np.zeros(t6.shape[0])\n",
        "perimeter6 = np.zeros(t6.shape[0])\n",
        "for i in range(0,t6.shape[0]):\n",
        "  props = measure.regionprops(t6[i,:,:])\n",
        "  area6[i] = props[0].area\n",
        "  perimeter6[i] = props[0].perimeter\n",
        "  \n",
        "plt.figure(figsize=(20,5))\n",
        "plt.subplot(1,2,1)\n",
        "plt.scatter(area5,perimeter5, label=buf5)\n",
        "plt.scatter(area6,perimeter6, label=buf6)\n",
        "plt.title('All images for both classes')\n",
        "plt.legend()\n",
        "\n",
        "plt.subplot(1,2,2)\n",
        "plt.scatter(area5[0:100],perimeter5[0:100], label=buf5)\n",
        "plt.scatter(area6[0:100],perimeter6[0:100], label=buf6)\n",
        "plt.title('100 images of each class')\n",
        "plt.legend()\n",
        "\n",
        "plt.figure(figsize=(5,10))\n",
        "plt.subplot(1,2,1)\n",
        "plt.boxplot([area5, area6],labels=[buf5,buf6])\n",
        "plt.title('area')\n",
        "\n",
        "plt.subplot(1,2,2)\n",
        "plt.boxplot([perimeter5, perimeter6],labels=[buf5,buf6])\n",
        "plt.title('perim')"
      ],
      "execution_count": 81,
      "outputs": [
        {
          "output_type": "execute_result",
          "data": {
            "text/plain": [
              "Text(0.5, 1.0, 'perim')"
            ]
          },
          "metadata": {},
          "execution_count": 81
        },
        {
          "output_type": "display_data",
          "data": {
            "text/plain": [
              "<Figure size 1440x360 with 2 Axes>"
            ],
            "image/png": "[encoded data removed]"
          },
          "metadata": {
            "needs_background": "light"
          }
        },
        {
          "output_type": "display_data",
          "data": {
            "text/plain": [
              "<Figure size 360x720 with 2 Axes>"
            ],
            "image/png": "[encoded data removed]"
          },
          "metadata": {
            "needs_background": "light"
          }
        }
      ]
    },
    {
      "cell_type": "markdown",
      "source": [
        "## Centroids and euclidian distance\n",
        "\n",
        "\n"
      ],
      "metadata": {
        "id": "j-awbCBUr_f6"
      }
    },
    {
      "cell_type": "code",
      "source": [
        "n1 = x_train[y_train==number,:,:]\n",
        "n2 = x_train[y_train==number+1,:,:]\n",
        "buf1 = \"Number  %d\" % number\n",
        "buf2 = \"Number  %d\" % (number+1)\n",
        "# Threshold images\n",
        "thresh1 = 1*(n1 > 60)\n",
        "thresh2 = 1*(n2 > 60)\n",
        "\n",
        "# Region properties (centroid)\n",
        "\n",
        "centroid1 = np.zeros((thresh1.shape[0],2), dtype='float')\n",
        "# print(centroid1.shape)\n",
        "for i in range(0, thresh1.shape[0]):\n",
        "  props = measure.regionprops(thresh1[i,:,:])\n",
        "  centroid1[i][0],centroid1[i][1] = props[0].centroid\n",
        "\n",
        "x1, y1 = centroid1.T\n",
        "# print(\"centroids for:\", number, centroid1)\n",
        "\n",
        "centroid2 = np.zeros((thresh2.shape[0],2), dtype='float')\n",
        "for i in range(0, thresh2.shape[0]):\n",
        "  props = measure.regionprops(thresh2[i,:,:])\n",
        "  centroid2[i][0],centroid2[i][1] = props[0].centroid\n",
        "\n",
        "x2, y2 = centroid2.T\n",
        "# print(\"centroids for:\", number + 1, centroid2)\n",
        "\n",
        "# Variability of values (euc distance of each pixel value to labels average pixel value)\n",
        "mean1 = np.mean(n1, axis=0)\n",
        "# print(mean1)\n",
        "euc_dist1 = np.zeros(n1.shape[0])\n",
        "for i in range(0, n1.shape[0]):\n",
        "  euc_dist1[i] = np.sqrt(np.mean(np.square(n1[i]-mean1)))\n",
        "\n",
        "mean2 = np.mean(n2, axis=0)\n",
        "euc_dist2 = np.zeros(n2.shape[0])\n",
        "for i in range(0, n2.shape[0]):\n",
        "  euc_dist2[i] = np.sqrt(np.mean(np.square(n2[i]-mean2)))\n",
        "\n",
        "plt.figure(figsize=(20,5))\n",
        "plt.subplot(1,2,1)\n",
        "plt.scatter(x1,y1, label=buf1)\n",
        "plt.scatter(x2,y2, label=buf2)\n",
        "plt.title('All images for both classes')\n",
        "plt.legend()\n",
        "\n",
        "plt.subplot(1,2,2)\n",
        "plt.scatter(x1[0:100],y1[0:100], label=buf1)\n",
        "plt.scatter(x2[0:100],y2[0:100], label=buf2)\n",
        "plt.title('100 images of each class')\n",
        "plt.legend()\n",
        "\n",
        "plt.figure(figsize=(5,10))\n",
        "plt.boxplot([euc_dist1, euc_dist2],labels=[buf1,buf2])\n"
      ],
      "metadata": {
        "id": "A3NYsF1Jfebu",
        "colab": {
          "base_uri": "https://localhost:8080/",
          "height": 1033
        },
        "outputId": "e7091a5c-eb78-410c-a2da-8da822cbdd42"
      },
      "execution_count": 82,
      "outputs": [
        {
          "output_type": "execute_result",
          "data": {
            "text/plain": [
              "{'whiskers': [<matplotlib.lines.Line2D at 0x7fa245b17150>,\n",
              "  <matplotlib.lines.Line2D at 0x7fa245b17690>,\n",
              "  <matplotlib.lines.Line2D at 0x7fa245b266d0>,\n",
              "  <matplotlib.lines.Line2D at 0x7fa245b26bd0>],\n",
              " 'caps': [<matplotlib.lines.Line2D at 0x7fa245b17bd0>,\n",
              "  <matplotlib.lines.Line2D at 0x7fa245b1f150>,\n",
              "  <matplotlib.lines.Line2D at 0x7fa245b2d150>,\n",
              "  <matplotlib.lines.Line2D at 0x7fa245b2d650>],\n",
              " 'boxes': [<matplotlib.lines.Line2D at 0x7fa245b11b50>,\n",
              "  <matplotlib.lines.Line2D at 0x7fa245b26190>],\n",
              " 'medians': [<matplotlib.lines.Line2D at 0x7fa245b1f6d0>,\n",
              "  <matplotlib.lines.Line2D at 0x7fa245b2db50>],\n",
              " 'fliers': [<matplotlib.lines.Line2D at 0x7fa245b1fc10>,\n",
              "  <matplotlib.lines.Line2D at 0x7fa245b35090>],\n",
              " 'means': []}"
            ]
          },
          "metadata": {},
          "execution_count": 82
        },
        {
          "output_type": "display_data",
          "data": {
            "text/plain": [
              "<Figure size 1440x360 with 2 Axes>"
            ],
            "image/png": "[encoded data removed]"
          },
          "metadata": {
            "needs_background": "light"
          }
        },
        {
          "output_type": "display_data",
          "data": {
            "text/plain": [
              "<Figure size 360x720 with 1 Axes>"
            ],
            "image/png": "[encoded data removed]"
          },
          "metadata": {
            "needs_background": "light"
          }
        }
      ]
    },
    {
      "cell_type": "markdown",
      "source": [
        "## eccentircity"
      ],
      "metadata": {
        "id": "ZIKqO-Oj8xiO"
      }
    },
    {
      "cell_type": "code",
      "source": [
        "# print('Eccentricity:')\n",
        "# eccentricity = mt_props[0].eccentricity\n",
        "# print(eccentricity)\n",
        "# print('')\n",
        "\n",
        "\n",
        "n1 = x_train[y_train==number,:,:]\n",
        "n2 = x_train[y_train==number+1,:,:]\n",
        "buf1 = \"Number  %d\" % number\n",
        "buf2 = \"Number  %d\" % (number+1)\n",
        "# Threshold images\n",
        "thresh1 = 1*(n1 > 60)\n",
        "thresh2 = 1*(n2 > 60)\n",
        "\n",
        "# Region properties (centroid)\n",
        "\n",
        "ecc1 = np.zeros(thresh1.shape[0], dtype='float')\n",
        "for i in range(0, thresh1.shape[0]):\n",
        "  props = measure.regionprops(thresh1[i,:,:])\n",
        "  ecc1[i] = props[0].eccentricity\n",
        "\n",
        "ecc2 = np.zeros(thresh2.shape[0], dtype='float')\n",
        "for i in range(0, thresh2.shape[0]):\n",
        "  props = measure.regionprops(thresh2[i,:,:])\n",
        "  ecc2[i] = props[0].eccentricity\n",
        "\n",
        "plt.figure(figsize=(5,10))\n",
        "plt.boxplot([euc_dist1, euc_dist2],labels=[buf1,buf2])"
      ],
      "metadata": {
        "id": "vYRXhTXnLrXs",
        "colab": {
          "base_uri": "https://localhost:8080/",
          "height": 852
        },
        "outputId": "4cf04af8-f128-40dc-bc33-c9e0261f566d"
      },
      "execution_count": 83,
      "outputs": [
        {
          "output_type": "execute_result",
          "data": {
            "text/plain": [
              "{'whiskers': [<matplotlib.lines.Line2D at 0x7fa2459a6750>,\n",
              "  <matplotlib.lines.Line2D at 0x7fa2459a6c90>,\n",
              "  <matplotlib.lines.Line2D at 0x7fa245998d10>,\n",
              "  <matplotlib.lines.Line2D at 0x7fa245a8b250>],\n",
              " 'caps': [<matplotlib.lines.Line2D at 0x7fa24599e210>,\n",
              "  <matplotlib.lines.Line2D at 0x7fa24599e750>,\n",
              "  <matplotlib.lines.Line2D at 0x7fa245a8b790>,\n",
              "  <matplotlib.lines.Line2D at 0x7fa245a8bc90>],\n",
              " 'boxes': [<matplotlib.lines.Line2D at 0x7fa2459a6190>,\n",
              "  <matplotlib.lines.Line2D at 0x7fa2459987d0>],\n",
              " 'medians': [<matplotlib.lines.Line2D at 0x7fa24599ecd0>,\n",
              "  <matplotlib.lines.Line2D at 0x7fa245a941d0>],\n",
              " 'fliers': [<matplotlib.lines.Line2D at 0x7fa245998250>,\n",
              "  <matplotlib.lines.Line2D at 0x7fa245a946d0>],\n",
              " 'means': []}"
            ]
          },
          "metadata": {},
          "execution_count": 83
        },
        {
          "output_type": "display_data",
          "data": {
            "text/plain": [
              "<Figure size 360x720 with 1 Axes>"
            ],
            "image/png": "[encoded data removed]"
          },
          "metadata": {
            "needs_background": "light"
          }
        }
      ]
    },
    {
      "cell_type": "markdown",
      "source": [
        "## Fisher Discriminant\n"
      ],
      "metadata": {
        "id": "YtEK8bj5EVpY"
      }
    },
    {
      "cell_type": "markdown",
      "source": [
        "### Data organization"
      ],
      "metadata": {
        "id": "vR5NqjhIu_sd"
      }
    },
    {
      "cell_type": "code",
      "source": [
        "n1 = x_train[y_train==number,:,:]\n",
        "n2 = x_train[y_train==number+1,:,:]\n",
        "buf1 = \"Number  %d\" % number\n",
        "buf2 = \"Number  %d\" % (number+1)\n",
        "# Threshold images\n",
        "thresh1 = 1*(n1 > 60)\n",
        "thresh2 = 1*(n2 > 60)\n",
        "\n",
        "# mean images\n",
        "mean1 = np.mean(n1, axis=0)\n",
        "mean2 = np.mean(n2, axis=0)\n",
        "\n",
        "# dataframes\n",
        "df1 = pd.DataFrame(columns = ['number', 'area', 'perimeter', 'eccentricity', 'euc_distance'])\n",
        "\n",
        "for i in range(0, thresh1.shape[0]):\n",
        "  label = measure.label(thresh1[i]);\n",
        "  reigon_props = measure.regionprops(thresh1[i])\n",
        "  area = reigon_props[0].area\n",
        "  eccentricity = reigon_props[0].eccentricity\n",
        "  perimeter = reigon_props[0].perimeter\n",
        "  euc_dist = np.sqrt(np.mean(np.square(n1[i]-mean1)))\n",
        "  props = {'number': int(number), 'area': area, 'perimeter': perimeter,\n",
        "           'eccentricity': eccentricity, 'euc_distance': euc_dist}\n",
        "  df1 = df1.append(props, ignore_index = True)\n",
        "\n",
        "print(df1)\n",
        "\n",
        "df2 = pd.DataFrame(columns = ['number', 'area', 'perimeter', 'eccentricity', 'euc_distance'])\n",
        "\n",
        "for i in range(0, thresh2.shape[0]):\n",
        "  label = measure.label(thresh2[i]);\n",
        "  #for some reason, table likes to return all values as an array\n",
        "  reigon_props = measure.regionprops(thresh2[i])\n",
        "  area = reigon_props[0].area\n",
        "  eccentricity = reigon_props[0].eccentricity\n",
        "  perimeter = reigon_props[0].perimeter\n",
        "  euc_dist = np.sqrt(np.mean(np.square(n2[i]-mean2)))\n",
        "  props = {'number': int(number + 1), 'area': area, 'perimeter': perimeter,\n",
        "           'eccentricity': eccentricity, 'euc_distance': euc_dist}\n",
        "  df2 = df2.append(props, ignore_index = True)\n",
        "\n",
        "print(df2)\n",
        "\n",
        "data_1_len = len(df1)\n",
        "data_2_len = len(df2)\n",
        "final_df = df1.append(df2, ignore_index=True)"
      ],
      "metadata": {
        "colab": {
          "base_uri": "https://localhost:8080/",
          "height": 0
        },
        "id": "f7OyKpXVVdLv",
        "outputId": "77165ba0-e879-4a2b-97b6-5c8da3d3d973"
      },
      "execution_count": 85,
      "outputs": [
        {
          "output_type": "stream",
          "name": "stdout",
          "text": [
            "      number   area   perimeter  eccentricity  euc_distance\n",
            "0        0.0  146.0   90.669048      0.781016     47.957883\n",
            "1        0.0  167.0   89.597980      0.792125     53.932104\n",
            "2        0.0  173.0   84.183766      0.847741     70.004138\n",
            "3        0.0  173.0   85.633514      0.813653     60.507874\n",
            "4        0.0  209.0  102.426407      0.678870     62.192703\n",
            "...      ...    ...         ...           ...           ...\n",
            "5918     0.0  144.0   95.982756      0.895126     75.402717\n",
            "5919     0.0  112.0   62.006097      0.917373     69.705535\n",
            "5920     0.0  149.0   91.704581      0.910148     71.335325\n",
            "5921     0.0  166.0  102.225397      0.895191     67.745861\n",
            "5922     0.0  162.0   99.154329      0.870883     70.221402\n",
            "\n",
            "[5923 rows x 5 columns]\n",
            "      number  area  perimeter  eccentricity  euc_distance\n",
            "0        1.0  81.0  52.284271      0.987028     48.303703\n",
            "1        1.0  81.0  44.485281      0.978445     51.274870\n",
            "2        1.0  51.0  37.863961      0.990063     41.903451\n",
            "3        1.0  54.0  39.656854      0.989353     40.409198\n",
            "4        1.0  78.0  50.526912      0.986989     47.986281\n",
            "...      ...   ...        ...           ...           ...\n",
            "6737     1.0  58.0  46.798990      0.991769     38.186143\n",
            "6738     1.0  78.0  52.183766      0.990249     58.328180\n",
            "6739     1.0  60.0  45.420310      0.991881     41.948090\n",
            "6740     1.0  73.0  52.390873      0.991962     55.954922\n",
            "6741     1.0  48.0  35.692388      0.992181     45.432428\n",
            "\n",
            "[6742 rows x 5 columns]\n"
          ]
        }
      ]
    },
    {
      "cell_type": "markdown",
      "source": [
        "### Training"
      ],
      "metadata": {
        "id": "aOVUieDWnaS6"
      }
    },
    {
      "cell_type": "code",
      "source": [
        "#seperate data from classes\n",
        "\n",
        "class_1 = np.array(df1[['area', 'perimeter', 'eccentricity', 'euc_distance']])\n",
        "class_2 = np.array(df2[['area', 'perimeter', 'eccentricity', 'euc_distance']])\n",
        "\n",
        "#find means\n",
        "mu_1 = class_1.mean(axis=0).reshape(-1,1)\n",
        "mu_2 = class_2.mean(axis=0).reshape(-1,1)\n",
        "\n",
        "#find scatter between\n",
        "# scatter_1 = np.size(class_1,0) * np.cov(class_1.T)\n",
        "# scatter_2 = np.size(class_2,0) * np.cov(class_2.T)\n",
        "scatter_1 = np.cov(class_1.T)\n",
        "scatter_2 = np.cov(class_2.T)\n",
        "scatter_within = scatter_1 + scatter_2\n",
        "scatter_inv = np.linalg.inv(scatter_within)\n",
        "\n",
        "boundary = scatter_inv.dot(mu_1-mu_2)\n",
        "print(boundary)\n",
        "\n"
      ],
      "metadata": {
        "id": "FcjoGWSl6luc",
        "colab": {
          "base_uri": "https://localhost:8080/",
          "height": 0
        },
        "outputId": "3a66d5e6-a4c6-4363-d94b-f4731abbfba6"
      },
      "execution_count": 86,
      "outputs": [
        {
          "output_type": "stream",
          "name": "stdout",
          "text": [
            "[[-0.01562192]\n",
            " [ 0.32199222]\n",
            " [-2.8028605 ]\n",
            " [ 0.09539497]]\n"
          ]
        }
      ]
    },
    {
      "cell_type": "code",
      "source": [
        "trainingc1_datapoint = class_1[1]\n",
        "trainingc2_datapoint = class_2[10]\n",
        "print(trainingc1_datapoint)\n",
        "# print(boundary[])\n",
        "res = boundary.T.dot(trainingc1_datapoint)\n",
        "res_2 = boundary.T.dot(trainingc2_datapoint)\n",
        "print(res)\n",
        "print(res_2)"
      ],
      "metadata": {
        "colab": {
          "base_uri": "https://localhost:8080/",
          "height": 0
        },
        "id": "HIbxmscS3K7X",
        "outputId": "4061a285-2b9c-41d6-b0de-d66f73e4dd27"
      },
      "execution_count": 87,
      "outputs": [
        {
          "output_type": "stream",
          "name": "stdout",
          "text": [
            "[167.          89.59797975   0.79212465  53.93210405]\n",
            "[29.16562914]\n",
            "[12.38374877]\n"
          ]
        }
      ]
    },
    {
      "cell_type": "markdown",
      "source": [
        "### finding the threshold"
      ],
      "metadata": {
        "id": "rLDbH-BycO0n"
      }
    },
    {
      "cell_type": "code",
      "source": [
        "X = np.array(final_df[['area', 'perimeter', 'eccentricity', 'euc_distance']])\n",
        "y = np.array(final_df['number'])\n",
        "\n",
        "res = np.zeros(np.size(X,0))\n",
        "# print(res.shape)\n",
        "for i in range(0,len(X)):\n",
        "  # res[i] = 10000*(boundary.T.dot(X[i]))\n",
        "  res[i] = (boundary.T.dot(X[i]))\n",
        "\n",
        "T = range(0,100)\n",
        "# T = np.arange(0,100,.1)\n",
        "predictions = np.zeros(np.size(X,0))\n",
        "final_tresh = 0\n",
        "max_correct = 0\n",
        "for t in T:\n",
        "  correct = 0\n",
        "  for i in range(0,len(res)):\n",
        "    # predictions[i] = 1 if res[i] > t else 0\n",
        "    prediction = number if res[i] > t else number+1\n",
        "    correct += (prediction == int(y[i]))\n",
        "  # print(f\"correct for {t}: {correct}\\n\")\n",
        "  if correct > max_correct:\n",
        "    max_correct = correct\n",
        "    final_thresh = t\n",
        "print(final_thresh)\n",
        "print(max_correct)\n",
        "correct = 0\n",
        "for t in np.arange(start=final_thresh-3, stop=final_thresh+4, step=.1):\n",
        "  correct = 0\n",
        "  for i in range(0,len(res)):\n",
        "    # predictions[i] = 1 if res[i] > t else 0\n",
        "    prediction = number if res[i] > t else number+1\n",
        "    correct += (prediction == int(y[i]))\n",
        "  # print(f\"correct for {t}: {correct}\\n\")\n",
        "  if correct > max_correct:\n",
        "    max_correct = correct\n",
        "    final_thresh = t\n",
        "# final_thresh = (math.floor(final_thresh*10)/10)/10000\n",
        "final_thresh = (math.floor(final_thresh*10)/10)\n",
        "\n",
        "print(final_thresh)\n",
        "# print(max_correct)"
      ],
      "metadata": {
        "colab": {
          "base_uri": "https://localhost:8080/",
          "height": 0
        },
        "id": "cm9kQjhRcNXk",
        "outputId": "a6b14b20-4671-426b-dc8e-3be7880fc2dd"
      },
      "execution_count": 88,
      "outputs": [
        {
          "output_type": "stream",
          "name": "stdout",
          "text": [
            "23\n",
            "12574\n",
            "23.0\n"
          ]
        }
      ]
    },
    {
      "cell_type": "code",
      "source": [
        "res = np.zeros(np.size(X,0))\n",
        "print(\"num samples\", len(X))\n",
        "\n",
        "correct = 0\n",
        "FN = 0\n",
        "FP = 0\n",
        "TN = 0\n",
        "TP = 0\n",
        "# print(res.shape)\n",
        "for i in range(0,len(X)):\n",
        "  res[i] = (boundary.T.dot(X[i]))\n",
        "  prediction = number if res[i] > final_thresh else number+1\n",
        "  correct += (prediction == int(y[i]))\n",
        "  TP += (prediction == int(y[i]) and int(y[i]) == number)\n",
        "  FP += (prediction == number and int(y[i]) != number)\n",
        "  TN += (prediction == int(y[i]) and int(y[i]) != number)\n",
        "  FN += (prediction != number and int(y[i]) == number)\n",
        "\n",
        "assert(TP+TN+FP+FN == len(y))\n",
        "print(f\"TP {TP}, TN {TN}, FN {FN}, FP {FP}\")\n",
        "percent_correct = correct/len(y)\n",
        "print(f\"num correct {correct}\")\n",
        "print(f\"percent correct {percent_correct}\")\n",
        "sensitivity = TP/(TP+FN)\n",
        "specificity = TN/(TN+FP)\n",
        "balanced_accuracy = (sensitivity+specificity)/2\n",
        "print(f\"balanced accuracy {balanced_accuracy}\")"
      ],
      "metadata": {
        "colab": {
          "base_uri": "https://localhost:8080/",
          "height": 0
        },
        "id": "b0l2yx_TrfE6",
        "outputId": "f1bb48f0-4b08-4ee0-9f7e-d87ada47d9df"
      },
      "execution_count": 89,
      "outputs": [
        {
          "output_type": "stream",
          "name": "stdout",
          "text": [
            "num samples 12665\n",
            "TP 5900, TN 6674, FN 23, FP 68\n",
            "num correct 12574\n",
            "percent correct 0.9928148440584288\n",
            "balanced accuracy 0.993015402400619\n"
          ]
        }
      ]
    },
    {
      "cell_type": "markdown",
      "source": [
        "### Testing"
      ],
      "metadata": {
        "id": "5ncUSCZxjF8V"
      }
    },
    {
      "cell_type": "code",
      "source": [
        "n1 = x_test[y_test==number,:,:]\n",
        "n2 = x_test[y_test==number+1,:,:]\n",
        "buf1 = \"Number  %d\" % number\n",
        "buf2 = \"Number  %d\" % (number+1)\n",
        "# Threshold images\n",
        "thresh1 = 1*(n1 > 60)\n",
        "thresh2 = 1*(n2 > 60)\n",
        "\n",
        "# mean images\n",
        "mean1 = np.mean(n1, axis=0)\n",
        "mean2 = np.mean(n2, axis=0)\n",
        "\n",
        "# dataframes\n",
        "df1 = pd.DataFrame(columns = ['number', 'area', 'perimeter', 'eccentricity', 'euc_distance'])\n",
        "\n",
        "for i in range(0, thresh1.shape[0]):\n",
        "  label = measure.label(thresh1[i]);\n",
        "  reigon_props = measure.regionprops(thresh1[i])\n",
        "  area = reigon_props[0].area\n",
        "  eccentricity = reigon_props[0].eccentricity\n",
        "  perimeter = reigon_props[0].perimeter\n",
        "  euc_dist = np.sqrt(np.mean(np.square(n1[i]-mean1)))\n",
        "  props = {'number': int(number), 'area': area, 'perimeter': perimeter,\n",
        "           'eccentricity': eccentricity, 'euc_distance': euc_dist}\n",
        "  df1 = df1.append(props, ignore_index = True)\n",
        "\n",
        "# print(df1)\n",
        "\n",
        "df2 = pd.DataFrame(columns = ['number', 'area', 'perimeter', 'eccentricity', 'euc_distance'])\n",
        "\n",
        "for i in range(0, thresh2.shape[0]):\n",
        "  label = measure.label(thresh2[i]);\n",
        "  #for some reason, table likes to return all values as an array\n",
        "  reigon_props = measure.regionprops(thresh2[i])\n",
        "  area = reigon_props[0].area\n",
        "  eccentricity = reigon_props[0].eccentricity\n",
        "  perimeter = reigon_props[0].perimeter\n",
        "  euc_dist = np.sqrt(np.mean(np.square(n2[i]-mean2)))\n",
        "  props = {'number': int(number + 1), 'area': area, 'perimeter': perimeter,\n",
        "           'eccentricity': eccentricity, 'euc_distance': euc_dist}\n",
        "  df2 = df2.append(props, ignore_index = True)\n",
        "\n",
        "# print(df2)\n",
        "\n",
        "data_1_len = len(df1)\n",
        "data_2_len = len(df2)\n",
        "final_df = df1.append(df2, ignore_index=True)"
      ],
      "metadata": {
        "id": "aXEvEJCEobHZ"
      },
      "execution_count": 90,
      "outputs": []
    },
    {
      "cell_type": "code",
      "source": [
        "X = np.array(final_df[['area', 'perimeter', 'eccentricity', 'euc_distance']])\n",
        "y = np.array(final_df['number'])\n",
        "print(f\"num samples {len(y)}\")\n",
        "res = np.zeros(np.size(X,0))\n",
        "correct = 0\n",
        "FN = 0\n",
        "FP = 0\n",
        "TN = 0\n",
        "TP = 0\n",
        "# print(res.shape)\n",
        "for i in range(0,len(X)):\n",
        "  res[i] = (boundary.T.dot(X[i]))\n",
        "  prediction = number if res[i] > final_thresh else number+1\n",
        "  correct += (prediction == int(y[i]))\n",
        "  TP += (prediction == int(y[i]) and int(y[i]) == number)\n",
        "  FP += (prediction == number and int(y[i]) != number)\n",
        "  TN += (prediction == int(y[i]) and int(y[i]) != number)\n",
        "  FN += (prediction != number and int(y[i]) == number)\n",
        "\n",
        "assert(TP+TN+FP+FN == len(y))\n",
        "print(f\"TP {TP}, TN {TN}, FN {FN}, FP {FP}\")\n",
        "percent_correct = correct/len(y)\n",
        "print(f\"num correct {correct}\")\n",
        "print(f\"percent correct {percent_correct}\")\n",
        "sensitivity = TP/(TP+FN)\n",
        "specificity = TN/(TN+FP)\n",
        "balanced_accuracy = (sensitivity+specificity)/2\n",
        "print(f\"balanced accuracy {balanced_accuracy}\")"
      ],
      "metadata": {
        "colab": {
          "base_uri": "https://localhost:8080/",
          "height": 0
        },
        "id": "qm5mPiXWoy3G",
        "outputId": "49d8af2e-2a9a-4afe-a8fa-955b22a0e7d1"
      },
      "execution_count": 91,
      "outputs": [
        {
          "output_type": "stream",
          "name": "stdout",
          "text": [
            "num samples 2115\n",
            "TP 976, TN 1126, FN 4, FP 9\n",
            "num correct 2102\n",
            "percent correct 0.9938534278959811\n",
            "balanced accuracy 0.9939944259642183\n"
          ]
        }
      ]
    }
  ]
}